{
 "cells": [
  {
   "cell_type": "code",
   "execution_count": 21,
   "metadata": {},
   "outputs": [
    {
     "name": "stdout",
     "output_type": "stream",
     "text": [
      "[generic] Extracting URL: https://videoaulas.infra.grancursosonline.com.br/564afe295161b94c3dcc76ab8ec071b3/d5f60488b3ea6a1...APKAJWDRH5QWMLF2KNSA\n",
      "[generic] d5f60488b3ea6a12a153d298144f2ef6: Downloading webpage\n",
      "[info] d5f60488b3ea6a12a153d298144f2ef6: Downloading 1 format(s): mp4\n",
      "[download] Destination: downloads\\d5f60488b3ea6a12a153d298144f2ef6.mp4\n",
      "[download] 100% of    1.06GiB in 00:06:52 at 2.62MiB/s   \n"
     ]
    }
   ],
   "source": [
    "import yt_dlp\n",
    "\n",
    "url = 'https://videoaulas.infra.grancursosonline.com.br/564afe295161b94c3dcc76ab8ec071b3/d5f60488b3ea6a12a153d298144f2ef6/d5f60488b3ea6a12a153d298144f2ef6.mp4?Expires=1736369753&Signature=gu7O~lKt4e8TYi0hLj2CZKEq-MfZ0gBlzPl74PlctomeuxfjVt61W0~aotrXz4gSBQ6s5X00gn0Q~VmmTmNjSccmcWtn8y9L7aHnwkP9wGxcyVA8fogBeB1TW3c05osEzVlBKZ4O-eTzeEw6w-xjS282Pm672I6ip3YxBgEEXe1SREp906uUWFRldyDVzPLW3p~8AJ7S5QtFwc8acbaImNG297e2VvTclHJl99HVYM9jV5oDEi5P1EsW3ym1BxSP40-czOepnYUspAbLk~ZV9~6O~pWDBtjwKvmMS9uVqCBAl-9~Nokd5B4XNlwTLAUB2uCQxnvANdKSOuPET6lIIA__&Key-Pair-Id=APKAJWDRH5QWMLF2KNSA'\n",
    "\n",
    "def my_hook(d):\n",
    "   lambda d: print(f\"Baixando: {d['filename']} - {d['downloaded_bytes']} bytes baixados\")\n",
    "\n",
    "options = {\n",
    "     'format': 'bestvideo+bestaudio/best',\n",
    "     'noplaylist': True,\n",
    "     'outtmpl': 'downloads/%(title)s.%(ext)s',\n",
    "     # código abaixo extrai áudio de vídeo\n",
    "     # 'postprocessors': [{\n",
    "     #    'key': 'FFmpegExtractAudio',\n",
    "     #    'preferredcodec': 'mp3',\n",
    "     #    'preferredquality': '192',\n",
    "     # }],\n",
    "     'progress_hooks': [my_hook],\n",
    "}\n",
    "\n",
    "with yt_dlp.YoutubeDL(options) as ydl:\n",
    "    ydl.download(url)"
   ]
  }
 ],
 "metadata": {
  "kernelspec": {
   "display_name": "Python 3",
   "language": "python",
   "name": "python3"
  },
  "language_info": {
   "codemirror_mode": {
    "name": "ipython",
    "version": 3
   },
   "file_extension": ".py",
   "mimetype": "text/x-python",
   "name": "python",
   "nbconvert_exporter": "python",
   "pygments_lexer": "ipython3",
   "version": "3.12.4"
  }
 },
 "nbformat": 4,
 "nbformat_minor": 2
}
